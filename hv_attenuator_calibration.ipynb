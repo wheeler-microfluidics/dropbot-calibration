{
 "metadata": {
  "name": "",
  "signature": "sha256:09046a81a6dd72b8aaab440d0b9a76df9a0084ddb3da203870165ff11bd49229"
 },
 "nbformat": 3,
 "nbformat_minor": 0,
 "worksheets": [
  {
   "cells": [
    {
     "cell_type": "code",
     "collapsed": false,
     "input": [
      "import logging\n",
      "import time\n",
      "import cPickle as pickle\n",
      "\n",
      "import gtk\n",
      "import numpy as np\n",
      "import matplotlib\n",
      "import matplotlib.mlab as mlab\n",
      "import matplotlib.pyplot as plt\n",
      "import matplotlib.pylab as pylab\n",
      "import scipy.optimize as optimize\n",
      "import pandas as pd\n",
      "\n",
      "from microdrop_utility.gui import text_entry_dialog\n",
      "from microdrop_utility import Version, is_float"
     ],
     "language": "python",
     "metadata": {},
     "outputs": [],
     "prompt_number": 1
    },
    {
     "cell_type": "code",
     "collapsed": false,
     "input": [
      "from hv_attenuator_calibration import (resistor_max_actuation_readings,\n",
      "                                       get_oscope_reading)"
     ],
     "language": "python",
     "metadata": {},
     "outputs": [],
     "prompt_number": 2
    },
    {
     "cell_type": "code",
     "collapsed": false,
     "input": [
      "%matplotlib inline"
     ],
     "language": "python",
     "metadata": {},
     "outputs": [],
     "prompt_number": 3
    },
    {
     "cell_type": "code",
     "collapsed": false,
     "input": [
      "import numpy as np\n",
      "from dmf_control_board import *\n",
      "\n",
      "control_board = DMFControlBoard()\n",
      "control_board.connect()\n",
      "\n",
      "frequencies = np.logspace(2, np.log10(20e3), num=10)\n",
      "frequencies"
     ],
     "language": "python",
     "metadata": {},
     "outputs": [
      {
       "metadata": {},
       "output_type": "pyout",
       "prompt_number": 4,
       "text": [
        "array([   100.        ,    180.16482307,    324.5936347 ,    584.80354764,\n",
        "         1053.61027689,   1898.23509116,   3419.95189335,   6161.55027758,\n",
        "        11100.9461557 ,  20000.        ])"
       ]
      }
     ],
     "prompt_number": 4
    },
    {
     "cell_type": "code",
     "collapsed": false,
     "input": [
      "max_resistor_results = resistor_max_actuation_readings(\n",
      "    control_board, frequencies, get_oscope_reading)"
     ],
     "language": "python",
     "metadata": {},
     "outputs": [],
     "prompt_number": 5
    },
    {
     "cell_type": "code",
     "collapsed": false,
     "input": [
      "h5f = pd.HDFStore('dropbot_calibration.h5', 'r')\n",
      "max_resistor_results = h5f['/high_voltage']"
     ],
     "language": "python",
     "metadata": {},
     "outputs": [],
     "prompt_number": 16
    },
    {
     "cell_type": "code",
     "collapsed": false,
     "input": [
      "from microdrop_utility import Version, is_float\n",
      "import pandas as pd\n",
      "\n",
      "\n",
      "def fit_hv_feedback_params(control_board, max_resistor_readings):\n",
      "    '''\n",
      "    Fit model of control board high-voltage feed-back resistor and\n",
      "    parasitic capacitance values based on measured voltage readings.\n",
      "    '''\n",
      "    hardware_version = Version.fromstring(control_board\n",
      "                                          .hardware_version())\n",
      "    R1 = 10e6\n",
      "    f = lambda p, x, R1: np.abs(1 / (R1 / p[1] + 1 + R1 * 2 * np.pi * p[0]\n",
      "                                     * complex(0, 1) * x))\n",
      "    if hardware_version.major == 2:\n",
      "        f = lambda p, x, R1: np.abs(1 / (R1 / p[1] + R1 * 2 * np.pi * p[0]\n",
      "                                         * complex(0, 1) * x))\n",
      "    e = lambda p, x, y, R1: f(p, x, R1) - y\n",
      "\n",
      "    def fit_resistor_params(x):\n",
      "        resistor_index = x['resistor index'].values[0]\n",
      "        x['attenuation'] = x['board measured V'] / x['oscope measured V']\n",
      "        p0 = [control_board.calibration.C_hv[resistor_index],\n",
      "              control_board.calibration.R_hv[resistor_index]]\n",
      "\n",
      "        p1, success = optimize.leastsq(e, p0,\n",
      "                                       args=(x['frequency'],\n",
      "                                             x['attenuation'], R1))\n",
      "        return pd.DataFrame([p0 + p1.tolist()],\n",
      "                            columns=['original C', 'original R',\n",
      "                                     'fitted C', 'fitted R']).T\n",
      "\n",
      "    results = (max_resistor_readings\n",
      "               [max_resistor_results['resistor index'] >= 0]\n",
      "               .groupby(['resistor index']).apply(fit_resistor_params))\n",
      "    data = results.unstack()\n",
      "    data.columns = data.columns.droplevel()\n",
      "    return data\n",
      "\n",
      "\n",
      "    # update control board calibration\n",
      "    # control_board.set_series_resistor_index(0, i)\n",
      "    # control_board.set_series_resistance(0, abs(p1[1]))\n",
      "    # control_board.set_series_capacitance(0, abs(p1[0]))\n",
      "    # reconnnect to update calibration data\n",
      "    # control_board.connect()\n",
      "    # else:  # Control board measurements\n",
      "    #     fit_params.append(p0)\n",
      "    #     plt.plot(frequencies, attenuation[i], colors[i] + 'o')\n",
      "    #     legend.append('R$_{%d}$ (CB measurements)' % i)\n",
      "# plt.legend(legend)\n",
      "# a = plt.gca()\n",
      "# a.set_xlabel('Frequency (Hz)')\n",
      "# a.set_ylabel('Attenuation')\n",
      "# a.set_title('HV attenuation')"
     ],
     "language": "python",
     "metadata": {},
     "outputs": [],
     "prompt_number": 7
    },
    {
     "cell_type": "code",
     "collapsed": false,
     "input": [
      "# Fit model of control board high-voltage feed-back resistor and\n",
      "# parasitic capacitance values based on measured voltage readings.\n",
      "fitted_params = fit_hv_feedback_params(control_board,\n",
      "                                       max_resistor_results)\n",
      "\n",
      "def update_control_board_fitted_hv_calibration(control_board,\n",
      "                                               fitted_params):\n",
      "    '''\n",
      "    Update the control board with the specified fitted parameters.\n",
      "    '''\n",
      "    def update_control_board_params(x):\n",
      "        resistor_index = x.name\n",
      "        control_board.set_series_resistor_index(0, resistor_index)\n",
      "        control_board.set_series_resistance(0, abs(x['fitted R']))\n",
      "        control_board.set_series_capacitance(0, abs(x['fitted C']))\n",
      "\n",
      "    # For each resistor index, update the control board with the new\n",
      "    # fitted capacitor and resistor values.\n",
      "    fitted_params[['fitted C', 'fitted R']].apply(\n",
      "        update_control_board_params, axis=1)\n",
      "\n",
      "    # Reconnnect to update calibration data.\n",
      "    control_board.connect()\n",
      "    \n",
      "# update_control_board_fitted_hv_calibration(control_board, fitted_params)\n",
      "# data[['original C', 'fitted C']].plot(kind='bar')\n",
      "# data[['original R', 'fitted R']].plot(kind='bar')"
     ],
     "language": "python",
     "metadata": {},
     "outputs": [],
     "prompt_number": 8
    },
    {
     "cell_type": "code",
     "collapsed": false,
     "input": [
      "from IPython.display import display\n",
      "\n",
      "pd.set_eng_float_format(accuracy=2, use_eng_prefix=True)\n",
      "display(fitted_params)\n",
      "display(control_board.calibration.R_hv)"
     ],
     "language": "python",
     "metadata": {},
     "outputs": [
      {
       "html": [
        "<div style=\"max-height:1000px;max-width:1500px;overflow:auto;\">\n",
        "<table border=\"1\" class=\"dataframe\">\n",
        "  <thead>\n",
        "    <tr style=\"text-align: right;\">\n",
        "      <th></th>\n",
        "      <th>original C</th>\n",
        "      <th>original R</th>\n",
        "      <th>fitted C</th>\n",
        "      <th>fitted R</th>\n",
        "    </tr>\n",
        "    <tr>\n",
        "      <th>resistor index</th>\n",
        "      <th></th>\n",
        "      <th></th>\n",
        "      <th></th>\n",
        "      <th></th>\n",
        "    </tr>\n",
        "  </thead>\n",
        "  <tbody>\n",
        "    <tr>\n",
        "      <th>0</th>\n",
        "      <td> 99.42p</td>\n",
        "      <td>  19.93k</td>\n",
        "      <td> 99.42p</td>\n",
        "      <td>  19.93k</td>\n",
        "    </tr>\n",
        "    <tr>\n",
        "      <th>1</th>\n",
        "      <td> 20.74p</td>\n",
        "      <td> 184.11k</td>\n",
        "      <td> 20.74p</td>\n",
        "      <td> 184.11k</td>\n",
        "    </tr>\n",
        "    <tr>\n",
        "      <th>2</th>\n",
        "      <td> 38.60p</td>\n",
        "      <td>   1.98M</td>\n",
        "      <td> 38.60p</td>\n",
        "      <td>   1.98M</td>\n",
        "    </tr>\n",
        "  </tbody>\n",
        "</table>\n",
        "</div>"
       ],
       "metadata": {},
       "output_type": "display_data",
       "text": [
        "                original C  original R  fitted C  fitted R\n",
        "resistor index                                            \n",
        "0                   99.42p      19.93k    99.42p    19.93k\n",
        "1                   20.74p     184.11k    20.74p   184.11k\n",
        "2                   38.60p       1.98M    38.60p     1.98M"
       ]
      },
      {
       "metadata": {},
       "output_type": "display_data",
       "text": [
        "array([   19926.70703125,   184109.3125    ,  1981110.5       ])"
       ]
      }
     ],
     "prompt_number": 9
    },
    {
     "cell_type": "code",
     "collapsed": false,
     "input": [
      "from hv_attenuator_calibration import plot_hv_feedback_params"
     ],
     "language": "python",
     "metadata": {},
     "outputs": [],
     "prompt_number": 10
    },
    {
     "cell_type": "code",
     "collapsed": false,
     "input": [
      "fig = plt.figure(figsize=(12, 10))\n",
      "axis = fig.add_subplot(111)\n",
      "plot_hv_feedback_params(control_board, max_resistor_results,\n",
      "                        fitted_params, axis=axis)"
     ],
     "language": "python",
     "metadata": {},
     "outputs": [
      {
       "metadata": {},
       "output_type": "display_data",
       "png": "[encoded data removed]",
       "text": [
        "<matplotlib.figure.Figure at 0x7f2c48186590>"
       ]
      }
     ],
     "prompt_number": 15
    }
   ],
   "metadata": {}
  }
 ]
}