{
 "metadata": {
  "name": "",
  "signature": "sha256:f70fb1b749e0ddb038ded7868d674cbb0c98880806008670f11affe7657f74c0"
 },
 "nbformat": 3,
 "nbformat_minor": 0,
 "worksheets": [
  {
   "cells": [
    {
     "cell_type": "markdown",
     "metadata": {},
     "source": [
      " - Install [numpy][4].\n",
      " - Install [pandas][1].\n",
      " - Install [numexpr][2].\n",
      " - Install [tables][3].\n",
      " \n",
      "[1]: http://www.lfd.uci.edu/~gohlke/pythonlibs/#pandas\n",
      "[2]: http://www.lfd.uci.edu/~gohlke/pythonlibs/#numexpr\n",
      "[3]: http://www.lfd.uci.edu/~gohlke/pythonlibs/#pytables\n",
      "[4]: http://www.lfd.uci.edu/~gohlke/pythonlibs/#numpy"
     ]
    },
    {
     "cell_type": "code",
     "collapsed": false,
     "input": [
      "import logging\n",
      "import time\n",
      "import cPickle as pickle\n",
      "\n",
      "import gtk\n",
      "import numpy as np\n",
      "import matplotlib\n",
      "import matplotlib.mlab as mlab\n",
      "import matplotlib.pyplot as plt\n",
      "import matplotlib.pylab as pylab\n",
      "import scipy.optimize as optimize\n",
      "import pandas as pd\n",
      "\n",
      "from microdrop_utility.gui import text_entry_dialog\n",
      "from microdrop_utility import Version, is_float"
     ],
     "language": "python",
     "metadata": {},
     "outputs": [],
     "prompt_number": 1
    },
    {
     "cell_type": "code",
     "collapsed": false,
     "input": [
      "from hv_attenuator_calibration import (resistor_max_actuation_readings,\n",
      "                                       get_oscope_reading,\n",
      "                                       plot_hv_feedback_params,\n",
      "                                       get_hv_transfer_function)"
     ],
     "language": "python",
     "metadata": {},
     "outputs": [],
     "prompt_number": 2
    },
    {
     "cell_type": "code",
     "collapsed": false,
     "input": [
      "%matplotlib inline"
     ],
     "language": "python",
     "metadata": {},
     "outputs": [],
     "prompt_number": 3
    },
    {
     "cell_type": "code",
     "collapsed": false,
     "input": [
      "import numpy as np\n",
      "from dmf_control_board import *\n",
      "\n",
      "control_board = DMFControlBoard()\n",
      "control_board.connect()\n",
      "\n",
      "hv_transfer_func = get_hv_transfer_function(control_board)\n",
      "frequencies = np.logspace(2, np.log10(20e3), num=10)\n",
      "frequencies"
     ],
     "language": "python",
     "metadata": {},
     "outputs": [
      {
       "metadata": {},
       "output_type": "pyout",
       "prompt_number": 4,
       "text": [
        "array([   100.        ,    180.16482307,    324.5936347 ,    584.80354764,\n",
        "         1053.61027689,   1898.23509116,   3419.95189335,   6161.55027758,\n",
        "        11100.9461557 ,  20000.        ])"
       ]
      }
     ],
     "prompt_number": 4
    },
    {
     "cell_type": "heading",
     "level": 2,
     "metadata": {},
     "source": [
      "Agilent Oscilloscope"
     ]
    },
    {
     "cell_type": "markdown",
     "metadata": {},
     "source": [
      " - Install [NI-VISA][1].\n",
      " - Install [PyVisa][2].\n",
      "\n",
      "[1]: http://www.ni.com/download/ni-visa-5.4.1/4626/en/\n",
      "[2]: http://www.lfd.uci.edu/~gohlke/pythonlibs/#pyvisa"
     ]
    },
    {
     "cell_type": "code",
     "collapsed": false,
     "input": [
      "import time\n",
      "import visa\n",
      "\n",
      "\n",
      "class AgilentOscope(object):\n",
      "    def __init__(self, address=None):\n",
      "        self.rm = visa.ResourceManager()\n",
      "        if address is None:\n",
      "            address = self.rm.list_resources()[0]\n",
      "        self.device = self.rm.get_instrument(address)\n",
      "\n",
      "    def read_ac_vrms(self):\n",
      "        time.sleep(.75)\n",
      "        self.device.write(\"AUTOSCALE\")\n",
      "        time.sleep(.75)\n",
      "        self.device.write(\"MEASURE:VRMS? DISPLAY,AC\")\n",
      "        time.sleep(.75)\n",
      "        return float(self.device.read())"
     ],
     "language": "python",
     "metadata": {},
     "outputs": [],
     "prompt_number": 5
    },
    {
     "cell_type": "code",
     "collapsed": false,
     "input": [
      "scope = AgilentOscope()\n",
      "# `VisaIOError`: Oscilloscope unplugged without restarting.\n",
      "scope.read_ac_vrms()\n",
      "foo = lambda: scope.read_ac_vrms()"
     ],
     "language": "python",
     "metadata": {},
     "outputs": [],
     "prompt_number": 6
    },
    {
     "cell_type": "code",
     "collapsed": false,
     "input": [
      "max_resistor_results = resistor_max_actuation_readings(\n",
      "    control_board, frequencies, foo)\n",
      "#     control_board, frequencies, get_oscope_reading)"
     ],
     "language": "python",
     "metadata": {},
     "outputs": [],
     "prompt_number": 9
    },
    {
     "cell_type": "code",
     "collapsed": false,
     "input": [
      "max_resistor_results.to_hdf('dropbot_calibration.h5', '/high_voltage',\n",
      "                            complib='blosc', complevel=2)"
     ],
     "language": "python",
     "metadata": {},
     "outputs": [],
     "prompt_number": 24
    },
    {
     "cell_type": "code",
     "collapsed": false,
     "input": [
      "# max_resistor_results"
     ],
     "language": "python",
     "metadata": {},
     "outputs": [],
     "prompt_number": 22
    },
    {
     "cell_type": "code",
     "collapsed": false,
     "input": [
      "h5f = pd.HDFStore('dropbot_calibration.h5', 'r')\n",
      "max_resistor_results = h5f['/high_voltage']"
     ],
     "language": "python",
     "metadata": {},
     "outputs": [],
     "prompt_number": 7
    },
    {
     "cell_type": "code",
     "collapsed": false,
     "input": [
      "from microdrop_utility import Version, is_float\n",
      "import pandas as pd\n",
      "\n",
      "\n",
      "def fit_hv_feedback_params(hv_transfer_func, max_resistor_readings):\n",
      "    '''\n",
      "    Fit model of control board high-voltage feed-back resistor and\n",
      "    parasitic capacitance values based on measured voltage readings.\n",
      "    '''\n",
      "    R1 = 10e6\n",
      "    e = lambda p, x, y, R1: hv_transfer_func(p, x, R1) - y\n",
      "\n",
      "    def fit_resistor_params(x):\n",
      "        resistor_index = x['resistor index'].values[0]\n",
      "        x['attenuation'] = x['board measured V'] / x['oscope measured V']\n",
      "        p0 = [control_board.calibration.C_hv[resistor_index],\n",
      "              control_board.calibration.R_hv[resistor_index]]\n",
      "\n",
      "        p1, success = optimize.leastsq(e, p0,\n",
      "                                       args=(x['frequency'],\n",
      "                                             x['attenuation'], R1))\n",
      "        return pd.DataFrame([p0 + p1.tolist()],\n",
      "                            columns=['original C', 'original R',\n",
      "                                     'fitted C', 'fitted R']).T\n",
      "\n",
      "    results = (max_resistor_readings\n",
      "               [max_resistor_results['resistor index'] >= 0]\n",
      "               .groupby(['resistor index']).apply(fit_resistor_params))\n",
      "    data = results.unstack()\n",
      "    data.columns = data.columns.droplevel()\n",
      "    return data"
     ],
     "language": "python",
     "metadata": {},
     "outputs": [],
     "prompt_number": 8
    },
    {
     "cell_type": "code",
     "collapsed": false,
     "input": [
      "def update_control_board_fitted_hv_calibration(control_board,\n",
      "                                               fitted_params):\n",
      "    '''\n",
      "    Update the control board with the specified fitted parameters.\n",
      "    '''\n",
      "    def update_control_board_params(x):\n",
      "        resistor_index = int(x.name)\n",
      "        control_board.set_series_resistor_index(0, resistor_index)\n",
      "        control_board.set_series_resistance(0, abs(x['fitted R']))\n",
      "        control_board.set_series_capacitance(0, abs(x['fitted C']))\n",
      "\n",
      "    # For each resistor index, update the control board with the new\n",
      "    # fitted capacitor and resistor values.\n",
      "    fitted_params[['fitted C', 'fitted R']].apply(\n",
      "        update_control_board_params, axis=1)\n",
      "\n",
      "    # Reconnnect to update calibration data.\n",
      "    control_board.connect()"
     ],
     "language": "python",
     "metadata": {},
     "outputs": [],
     "prompt_number": 10
    },
    {
     "cell_type": "code",
     "collapsed": false,
     "input": [
      "# Fit model of control board high-voltage feed-back resistor and\n",
      "# parasitic capacitance values based on measured voltage readings.\n",
      "fitted_params = fit_hv_feedback_params(hv_transfer_func,\n",
      "                                       max_resistor_results)\n",
      "    \n",
      "update_control_board_fitted_hv_calibration(control_board, fitted_params)"
     ],
     "language": "python",
     "metadata": {},
     "outputs": [],
     "prompt_number": 11
    },
    {
     "cell_type": "code",
     "collapsed": false,
     "input": [
      "from IPython.display import display\n",
      "\n",
      "pd.set_eng_float_format(accuracy=2, use_eng_prefix=True)\n",
      "display(fitted_params)\n",
      "display(control_board.calibration.R_hv)"
     ],
     "language": "python",
     "metadata": {},
     "outputs": [
      {
       "html": [
        "<div style=\"max-height:1000px;max-width:1500px;overflow:auto;\">\n",
        "<table border=\"1\" class=\"dataframe\">\n",
        "  <thead>\n",
        "    <tr style=\"text-align: right;\">\n",
        "      <th></th>\n",
        "      <th>original C</th>\n",
        "      <th>original R</th>\n",
        "      <th>fitted C</th>\n",
        "      <th>fitted R</th>\n",
        "    </tr>\n",
        "    <tr>\n",
        "      <th>resistor index</th>\n",
        "      <th></th>\n",
        "      <th></th>\n",
        "      <th></th>\n",
        "      <th></th>\n",
        "    </tr>\n",
        "  </thead>\n",
        "  <tbody>\n",
        "    <tr>\n",
        "      <th>0</th>\n",
        "      <td> 89.21p</td>\n",
        "      <td>  19.99k</td>\n",
        "      <td> 89.21p</td>\n",
        "      <td>  19.99k</td>\n",
        "    </tr>\n",
        "    <tr>\n",
        "      <th>1</th>\n",
        "      <td> 19.01p</td>\n",
        "      <td> 184.73k</td>\n",
        "      <td> 19.01p</td>\n",
        "      <td> 184.73k</td>\n",
        "    </tr>\n",
        "    <tr>\n",
        "      <th>2</th>\n",
        "      <td> 38.73p</td>\n",
        "      <td>   2.00M</td>\n",
        "      <td> 38.73p</td>\n",
        "      <td>   2.00M</td>\n",
        "    </tr>\n",
        "  </tbody>\n",
        "</table>\n",
        "</div>"
       ],
       "metadata": {},
       "output_type": "display_data",
       "text": [
        "                original C  original R  fitted C  fitted R\n",
        "resistor index                                            \n",
        "0                   89.21p      19.99k    89.21p    19.99k\n",
        "1                   19.01p     184.73k    19.01p   184.73k\n",
        "2                   38.73p       2.00M    38.73p     2.00M"
       ]
      },
      {
       "metadata": {},
       "output_type": "display_data",
       "text": [
        "array([   19990.6640625,   184734.46875  ,  1995021.875    ])"
       ]
      }
     ],
     "prompt_number": 12
    },
    {
     "cell_type": "code",
     "collapsed": false,
     "input": [
      "fig = plt.figure(figsize=(12, 10))\n",
      "axis = fig.add_subplot(111)\n",
      "plot_hv_feedback_params(hv_transfer_func, max_resistor_results, fitted_params,\n",
      "                        axis=axis)"
     ],
     "language": "python",
     "metadata": {},
     "outputs": [
      {
       "metadata": {},
       "output_type": "display_data",
       "png": "[encoded data removed]",
       "text": [
        "<matplotlib.figure.Figure at 0x9b9e970>"
       ]
      }
     ],
     "prompt_number": 13
    }
   ],
   "metadata": {}
  }
 ]
}